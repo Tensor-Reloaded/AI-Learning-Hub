{
 "cells": [
  {
   "cell_type": "markdown",
   "metadata": {},
   "source": [
    "# Basic Tensor Operations\n",
    "\n",
    "Consider going through [Deep Learning with PyTorch: A 60 Minute Blitz](https://docs.pytorch.org/tutorials/beginner/deep_learning_60min_blitz.html) first"
   ]
  },
  {
   "cell_type": "code",
   "execution_count": 1,
   "metadata": {
    "id": "_SM-7cV9__S5"
   },
   "outputs": [],
   "source": [
    "import torch\n",
    "import numpy as np\n"
   ]
  },
  {
   "cell_type": "code",
   "execution_count": 2,
   "metadata": {
    "colab": {
     "base_uri": "https://localhost:8080/"
    },
    "id": "6fiQAijZ3VMi",
    "outputId": "d10ed930-0998-46ef-8b1b-24d4afa7aed0"
   },
   "outputs": [
    {
     "name": "stdout",
     "output_type": "stream",
     "text": [
      "Collecting timed-decorator\n",
      "  Downloading timed_decorator-1.5.1-py3-none-any.whl.metadata (18 kB)\n",
      "Downloading timed_decorator-1.5.1-py3-none-any.whl (12 kB)\n",
      "Installing collected packages: timed-decorator\n",
      "Successfully installed timed-decorator-1.5.1\n"
     ]
    }
   ],
   "source": [
    "%pip install timed-decorator"
   ]
  },
  {
   "cell_type": "code",
   "execution_count": 3,
   "metadata": {
    "id": "YVi4py2A3ZPM"
   },
   "outputs": [],
   "source": [
    "from timed_decorator.simple_timed import timed"
   ]
  },
  {
   "cell_type": "markdown",
   "metadata": {
    "id": "BLDUBAZeMbeb"
   },
   "source": [
    "# Tensor"
   ]
  },
  {
   "cell_type": "markdown",
   "metadata": {
    "id": "tVj3bduLMkQD"
   },
   "source": [
    "## Tensor Creation"
   ]
  },
  {
   "cell_type": "code",
   "execution_count": 4,
   "metadata": {
    "colab": {
     "base_uri": "https://localhost:8080/"
    },
    "id": "MzVqBA9AMifS",
    "outputId": "84028239-af4e-43b0-a1d0-0762af3cbcda"
   },
   "outputs": [
    {
     "data": {
      "text/plain": [
       "tensor([1, 2, 3])"
      ]
     },
     "execution_count": 4,
     "metadata": {},
     "output_type": "execute_result"
    }
   ],
   "source": [
    "# From Python lists:\n",
    "torch.tensor([1, 2, 3])"
   ]
  },
  {
   "cell_type": "code",
   "execution_count": 5,
   "metadata": {
    "colab": {
     "base_uri": "https://localhost:8080/"
    },
    "id": "zOyNVUxQMLVk",
    "outputId": "f988cb48-70bf-4567-f088-bb731ff1522d"
   },
   "outputs": [
    {
     "data": {
      "text/plain": [
       "tensor([[0.0062, 0.8981, 0.3870, 0.7135, 0.7470, 0.2951, 0.9373, 0.0359],\n",
       "        [0.2583, 0.0901, 0.5022, 0.2888, 0.5995, 0.9775, 0.0333, 0.0576],\n",
       "        [0.9033, 0.4147, 0.9031, 0.8718, 0.0782, 0.6576, 0.6901, 0.9179],\n",
       "        [0.2559, 0.7821, 0.2671, 0.0670, 0.7204, 0.0363, 0.4421, 0.7920]])"
      ]
     },
     "execution_count": 5,
     "metadata": {},
     "output_type": "execute_result"
    }
   ],
   "source": [
    "# Random tensor with a given size\n",
    "torch.rand((4, 8))"
   ]
  },
  {
   "cell_type": "code",
   "execution_count": 6,
   "metadata": {
    "colab": {
     "base_uri": "https://localhost:8080/"
    },
    "id": "IWizITNUNGVs",
    "outputId": "ff3c698f-61b9-4b2f-ccae-2a74507e5a04"
   },
   "outputs": [
    {
     "data": {
      "text/plain": [
       "tensor([[[0., 0., 0.],\n",
       "         [0., 0., 0.],\n",
       "         [0., 0., 0.]],\n",
       "\n",
       "        [[0., 0., 0.],\n",
       "         [0., 0., 0.],\n",
       "         [0., 0., 0.]],\n",
       "\n",
       "        [[0., 0., 0.],\n",
       "         [0., 0., 0.],\n",
       "         [0., 0., 0.]]])"
      ]
     },
     "execution_count": 6,
     "metadata": {},
     "output_type": "execute_result"
    }
   ],
   "source": [
    "# Zero tensor\n",
    "torch.zeros((3, 3, 3))"
   ]
  },
  {
   "cell_type": "code",
   "execution_count": 7,
   "metadata": {
    "colab": {
     "base_uri": "https://localhost:8080/"
    },
    "id": "BSIUao6aNTaM",
    "outputId": "7a92301c-3b0e-4d1e-890e-5b98c0eba817"
   },
   "outputs": [
    {
     "data": {
      "text/plain": [
       "tensor([ 5,  7,  9, 11, 13])"
      ]
     },
     "execution_count": 7,
     "metadata": {},
     "output_type": "execute_result"
    }
   ],
   "source": [
    "torch.arange(5, 15, 2)"
   ]
  },
  {
   "cell_type": "code",
   "execution_count": 8,
   "metadata": {
    "colab": {
     "base_uri": "https://localhost:8080/"
    },
    "id": "esd-4w_ENgO-",
    "outputId": "9a4fe2cb-d5be-4c74-e5ef-cec668cccee5"
   },
   "outputs": [
    {
     "data": {
      "text/plain": [
       "tensor([[5, 5, 5, 5, 5, 5, 5, 5, 5, 5],\n",
       "        [5, 5, 5, 5, 5, 5, 5, 5, 5, 5]])"
      ]
     },
     "execution_count": 8,
     "metadata": {},
     "output_type": "execute_result"
    }
   ],
   "source": [
    "torch.full((2, 10), 5)"
   ]
  },
  {
   "cell_type": "code",
   "execution_count": 9,
   "metadata": {
    "colab": {
     "base_uri": "https://localhost:8080/"
    },
    "id": "F_8Ke2LYNmPU",
    "outputId": "91d8a953-1ae4-43f5-b5c3-ad04149f8c39"
   },
   "outputs": [
    {
     "data": {
      "text/plain": [
       "tensor([[1., 0., 0., 0.],\n",
       "        [0., 1., 0., 0.],\n",
       "        [0., 0., 1., 0.],\n",
       "        [0., 0., 0., 1.]])"
      ]
     },
     "execution_count": 9,
     "metadata": {},
     "output_type": "execute_result"
    }
   ],
   "source": [
    "torch.eye(4)"
   ]
  },
  {
   "cell_type": "markdown",
   "metadata": {
    "id": "TJJT6uaCRfeW"
   },
   "source": [
    "## Operations with Tensors"
   ]
  },
  {
   "cell_type": "code",
   "execution_count": 10,
   "metadata": {
    "colab": {
     "base_uri": "https://localhost:8080/"
    },
    "id": "b-eYho2hRh5c",
    "outputId": "02c152a6-7e70-4620-cabd-77c75e3b3d9a"
   },
   "outputs": [
    {
     "name": "stdout",
     "output_type": "stream",
     "text": [
      "torch.Size([100, 20, 30]) torch.Size([100, 20, 30])\n"
     ]
    }
   ],
   "source": [
    "t1 = torch.rand((100, 20, 30))\n",
    "t2 = torch.rand((100, 20, 30))\n",
    "print(t1.shape, t2.shape)"
   ]
  },
  {
   "cell_type": "code",
   "execution_count": 11,
   "metadata": {
    "colab": {
     "base_uri": "https://localhost:8080/"
    },
    "id": "RzNXZ58URuKL",
    "outputId": "dfa561fc-53de-4a62-f9dd-85daee804381"
   },
   "outputs": [
    {
     "name": "stdout",
     "output_type": "stream",
     "text": [
      "torch.Size([100, 20, 30])\n"
     ]
    },
    {
     "data": {
      "text/plain": [
       "True"
      ]
     },
     "execution_count": 11,
     "metadata": {},
     "output_type": "execute_result"
    }
   ],
   "source": [
    "print((t1 * t2).shape)\n",
    "torch.equal(t1 * t2, torch.mul(t1, t2))"
   ]
  },
  {
   "cell_type": "code",
   "execution_count": 12,
   "metadata": {
    "colab": {
     "base_uri": "https://localhost:8080/"
    },
    "id": "Vo531IDaR0wN",
    "outputId": "4fc95a49-80ec-4ff9-a8ee-d61dc1a8ea17"
   },
   "outputs": [
    {
     "name": "stdout",
     "output_type": "stream",
     "text": [
      "torch.Size([100, 30, 20])\n",
      "torch.Size([100, 20, 20])\n"
     ]
    }
   ],
   "source": [
    "t2t = t2.transpose(1, 2)\n",
    "print(t2t.shape)\n",
    "print((t1 @ t2t).shape)"
   ]
  },
  {
   "cell_type": "code",
   "execution_count": 13,
   "metadata": {
    "colab": {
     "base_uri": "https://localhost:8080/"
    },
    "id": "bVAAgFSp9SkQ",
    "outputId": "9a17244f-a17b-4e30-99f1-a882d3dd03ae"
   },
   "outputs": [
    {
     "data": {
      "text/plain": [
       "True"
      ]
     },
     "execution_count": 13,
     "metadata": {},
     "output_type": "execute_result"
    }
   ],
   "source": [
    "torch.equal(t1 @ t2t, torch.bmm(t1, t2t))"
   ]
  },
  {
   "cell_type": "code",
   "execution_count": 14,
   "metadata": {
    "colab": {
     "base_uri": "https://localhost:8080/"
    },
    "id": "97nXwiJ29PVB",
    "outputId": "8e4c365e-12b5-48d5-a7bf-0d7593eab20a"
   },
   "outputs": [
    {
     "data": {
      "text/plain": [
       "True"
      ]
     },
     "execution_count": 14,
     "metadata": {},
     "output_type": "execute_result"
    }
   ],
   "source": [
    "torch.equal(t1 @ t2t, torch.matmul(t1, t2t))"
   ]
  },
  {
   "cell_type": "markdown",
   "metadata": {
    "id": "4DSDA1tkODmb"
   },
   "source": [
    "## Casting tensors to device"
   ]
  },
  {
   "cell_type": "code",
   "execution_count": 15,
   "metadata": {
    "id": "X3zsAshPOJqT"
   },
   "outputs": [],
   "source": [
    "# Tensors are by default on CPU\n",
    "# Please ensure that you have access to a GPU first (in Google Colab, change Runtime type to T4 GPU).\n",
    "x = torch.arange(5, 15, 2)\n",
    "x_cuda = x.to('cuda')"
   ]
  },
  {
   "cell_type": "code",
   "execution_count": 16,
   "metadata": {
    "colab": {
     "base_uri": "https://localhost:8080/"
    },
    "id": "S6D-Tg7DOa8b",
    "outputId": "4f8cf2fd-7491-4a04-bbc3-078b317c9287"
   },
   "outputs": [
    {
     "data": {
      "text/plain": [
       "tensor([ 5,  7,  9, 11, 13], device='cuda:0')"
      ]
     },
     "execution_count": 16,
     "metadata": {},
     "output_type": "execute_result"
    }
   ],
   "source": [
    "x_cuda"
   ]
  },
  {
   "cell_type": "code",
   "execution_count": 17,
   "metadata": {
    "colab": {
     "base_uri": "https://localhost:8080/",
     "height": 159
    },
    "id": "N5-uIsRGOzzH",
    "outputId": "4535fba9-7aa4-4ee5-cc41-dc78bb74edd3"
   },
   "outputs": [
    {
     "ename": "RuntimeError",
     "evalue": "Expected all tensors to be on the same device, but found at least two devices, cuda:0 and cpu!",
     "output_type": "error",
     "traceback": [
      "\u001b[0;31m---------------------------------------------------------------------------\u001b[0m",
      "\u001b[0;31mRuntimeError\u001b[0m                              Traceback (most recent call last)",
      "\u001b[0;32m<ipython-input-17-ecd9368e1e4d>\u001b[0m in \u001b[0;36m<cell line: 2>\u001b[0;34m()\u001b[0m\n\u001b[1;32m      1\u001b[0m \u001b[0;31m# Tensors should be on the same device\u001b[0m\u001b[0;34m\u001b[0m\u001b[0;34m\u001b[0m\u001b[0m\n\u001b[0;32m----> 2\u001b[0;31m \u001b[0mx_cuda\u001b[0m \u001b[0;34m+\u001b[0m \u001b[0mx\u001b[0m\u001b[0;34m\u001b[0m\u001b[0;34m\u001b[0m\u001b[0m\n\u001b[0m",
      "\u001b[0;31mRuntimeError\u001b[0m: Expected all tensors to be on the same device, but found at least two devices, cuda:0 and cpu!"
     ]
    }
   ],
   "source": [
    "# Tensors should be on the same device\n",
    "x_cuda + x"
   ]
  },
  {
   "cell_type": "code",
   "execution_count": 55,
   "metadata": {
    "id": "SSwwuUVMPKQy"
   },
   "outputs": [],
   "source": [
    "@timed(show_args=True, use_seconds=True)\n",
    "def tensor_operations(a, b):\n",
    "    c = (a * b) @ b.transpose(1, 2)\n",
    "    c.mean(axis=1)"
   ]
  },
  {
   "cell_type": "code",
   "execution_count": 52,
   "metadata": {
    "colab": {
     "base_uri": "https://localhost:8080/"
    },
    "id": "IYjT-e7r3vXA",
    "outputId": "4f95628f-026b-4f86-e3ae-697aa445a046"
   },
   "outputs": [
    {
     "name": "stdout",
     "output_type": "stream",
     "text": [
      "a torch.Size([10000, 200, 300])\n",
      "b torch.Size([10000, 200, 300])\n",
      "b transposed torch.Size([10000, 300, 200])\n"
     ]
    }
   ],
   "source": [
    "torch.manual_seed(10)\n",
    "a = torch.rand((10000, 200, 300))\n",
    "b = torch.rand((10000, 200, 300))\n",
    "a_cuda = a.to('cuda')\n",
    "b_cuda = b.to('cuda')\n",
    "print(\"a\", a.shape)\n",
    "print(\"b\", b.shape)\n",
    "print(\"b transposed\", b.transpose(1, 2).shape)"
   ]
  },
  {
   "cell_type": "code",
   "execution_count": 56,
   "metadata": {
    "colab": {
     "base_uri": "https://localhost:8080/"
    },
    "id": "jz5fOa31PjBl",
    "outputId": "f8f1e4b9-4c85-4a68-b10d-9b0284092ce1"
   },
   "outputs": [
    {
     "name": "stdout",
     "output_type": "stream",
     "text": [
      "tensor_operations(CpuTensor[10000, 200, 300], CpuTensor[10000, 200, 300]) -> total time: 6.587385930s\n"
     ]
    }
   ],
   "source": [
    "tensor_operations(a, b)"
   ]
  },
  {
   "cell_type": "code",
   "execution_count": 57,
   "metadata": {
    "colab": {
     "base_uri": "https://localhost:8080/"
    },
    "id": "85C-quDL34ZL",
    "outputId": "ec2d3771-7d10-49e7-afa8-a0e0d111f5d5"
   },
   "outputs": [
    {
     "name": "stdout",
     "output_type": "stream",
     "text": [
      "tensor_operations(CudaTensor[10000, 200, 300], CudaTensor[10000, 200, 300]) -> total time: 0.177658058s\n"
     ]
    }
   ],
   "source": [
    "tensor_operations(a_cuda, b_cuda)"
   ]
  },
  {
   "cell_type": "markdown",
   "metadata": {
    "id": "-pc4vRLKROPc"
   },
   "source": [
    "## Tensor reshaping"
   ]
  },
  {
   "cell_type": "code",
   "execution_count": 29,
   "metadata": {
    "colab": {
     "base_uri": "https://localhost:8080/"
    },
    "id": "BPyZ4A8rBCNp",
    "outputId": "ead70d50-348e-42f6-8a0a-94fb17ec094c"
   },
   "outputs": [
    {
     "name": "stdout",
     "output_type": "stream",
     "text": [
      "a\t\t\ttorch.Size([100, 20, 25])\n",
      "a.flatten()\t\ttorch.Size([50000])\n",
      "a.reshape(-1)\t\ttorch.Size([50000])\n",
      "a.reshape(100, -1)\ttorch.Size([100, 500])\n",
      "a.reshape(100, 25, 20)\ttorch.Size([100, 25, 20])\n",
      "a.view(-1, 5, 5)\ttorch.Size([2000, 5, 5])\n",
      "a.unsqueeze(0)\t\ttorch.Size([1, 100, 20, 25])\n",
      "a.unsqueeze(-1)\t\ttorch.Size([100, 20, 25, 1])\n",
      "b\t\t\ttorch.Size([1, 1, 2])\n",
      "b.squeeze()\t\ttorch.Size([2])\n"
     ]
    }
   ],
   "source": [
    "a = torch.rand((100, 20, 25))\n",
    "print(\"a\", a.shape, sep=\"\\t\\t\\t\")\n",
    "print(\"a.flatten()\", a.flatten().shape, sep=\"\\t\\t\")\n",
    "print(\"a.reshape(-1)\", a.reshape(-1).shape, sep=\"\\t\\t\")\n",
    "print(\"a.reshape(100, -1)\", a.reshape(100, -1).shape, sep=\"\\t\")\n",
    "print(\"a.reshape(100, 25, 20)\", a.reshape(100, 25, 20).shape, sep=\"\\t\")\n",
    "print(\"a.view(-1, 5, 5)\", a.view(-1, 5, 5).shape, sep=\"\\t\")\n",
    "print(\"a.unsqueeze(0)\", a.unsqueeze(0).shape, sep=\"\\t\\t\")\n",
    "print(\"a.unsqueeze(-1)\", a.unsqueeze(-1).shape, sep=\"\\t\\t\")\n",
    "\n",
    "b = torch.tensor([[[1, 2]]])\n",
    "print(\"b\", b.shape, sep=\"\\t\\t\\t\")\n",
    "print(\"b.squeeze()\", b.squeeze().shape, sep=\"\\t\\t\")"
   ]
  },
  {
   "cell_type": "markdown",
   "metadata": {
    "id": "RVVcdpMHCkXr"
   },
   "source": [
    "## Tensor concatenation and stacking"
   ]
  },
  {
   "cell_type": "code",
   "execution_count": 30,
   "metadata": {
    "id": "uidLyYmRCjNA"
   },
   "outputs": [],
   "source": [
    "x = torch.ones((2, 4))\n",
    "y = torch.zeros((2, 4))"
   ]
  },
  {
   "cell_type": "code",
   "execution_count": 31,
   "metadata": {
    "colab": {
     "base_uri": "https://localhost:8080/"
    },
    "id": "kb3S6FP9CwBA",
    "outputId": "a66fb5ce-125e-4e32-9a86-4a253391df0b"
   },
   "outputs": [
    {
     "data": {
      "text/plain": [
       "tensor([[1., 1., 1., 1.],\n",
       "        [1., 1., 1., 1.],\n",
       "        [0., 0., 0., 0.],\n",
       "        [0., 0., 0., 0.]])"
      ]
     },
     "execution_count": 31,
     "metadata": {},
     "output_type": "execute_result"
    }
   ],
   "source": [
    "torch.cat((x, y))"
   ]
  },
  {
   "cell_type": "code",
   "execution_count": 32,
   "metadata": {
    "colab": {
     "base_uri": "https://localhost:8080/"
    },
    "id": "EiZdXLUsC0Vq",
    "outputId": "279c453f-79b7-468f-dd1b-333818e527b3"
   },
   "outputs": [
    {
     "data": {
      "text/plain": [
       "tensor([[[1., 1., 1., 1.],\n",
       "         [1., 1., 1., 1.]],\n",
       "\n",
       "        [[0., 0., 0., 0.],\n",
       "         [0., 0., 0., 0.]]])"
      ]
     },
     "execution_count": 32,
     "metadata": {},
     "output_type": "execute_result"
    }
   ],
   "source": [
    "aux = torch.stack((x, y))\n",
    "aux"
   ]
  },
  {
   "cell_type": "code",
   "execution_count": 33,
   "metadata": {
    "colab": {
     "base_uri": "https://localhost:8080/"
    },
    "id": "mkGHUmphC_OI",
    "outputId": "be62d5c9-59cf-4d10-ad86-823fd0247f51"
   },
   "outputs": [
    {
     "data": {
      "text/plain": [
       "torch.Size([2, 2, 4])"
      ]
     },
     "execution_count": 33,
     "metadata": {},
     "output_type": "execute_result"
    }
   ],
   "source": [
    "aux.shape"
   ]
  },
  {
   "cell_type": "markdown",
   "metadata": {
    "id": "iwljfoF9Dc0L"
   },
   "source": [
    "## More Tensor operations"
   ]
  },
  {
   "cell_type": "code",
   "execution_count": 34,
   "metadata": {
    "colab": {
     "base_uri": "https://localhost:8080/"
    },
    "id": "R0wIrgCgDD0h",
    "outputId": "84733aec-22ce-44d7-941a-c06f3c347e2d"
   },
   "outputs": [
    {
     "data": {
      "text/plain": [
       "tensor(0.5495)"
      ]
     },
     "execution_count": 34,
     "metadata": {},
     "output_type": "execute_result"
    }
   ],
   "source": [
    "a = torch.rand((5, 20))\n",
    "a.mean()"
   ]
  },
  {
   "cell_type": "code",
   "execution_count": 35,
   "metadata": {
    "colab": {
     "base_uri": "https://localhost:8080/"
    },
    "id": "51O0Rm5yD9P6",
    "outputId": "85700eba-2228-4716-9298-702aae9b57f6"
   },
   "outputs": [
    {
     "data": {
      "text/plain": [
       "tensor([0.4700, 0.4974, 0.5971, 0.6747, 0.5083])"
      ]
     },
     "execution_count": 35,
     "metadata": {},
     "output_type": "execute_result"
    }
   ],
   "source": [
    "a.mean(axis=1)"
   ]
  },
  {
   "cell_type": "code",
   "execution_count": 36,
   "metadata": {
    "colab": {
     "base_uri": "https://localhost:8080/"
    },
    "id": "8ukcJkJPD43h",
    "outputId": "d6e4e5ed-768a-4f27-9b59-845eb91db892"
   },
   "outputs": [
    {
     "data": {
      "text/plain": [
       "tensor([0.4852, 0.5720, 0.5703, 0.6602, 0.5591, 0.5038, 0.4658, 0.5259, 0.6198,\n",
       "        0.3775, 0.5402, 0.4464, 0.6521, 0.4840, 0.5222, 0.6759, 0.5103, 0.7811,\n",
       "        0.6559, 0.3821])"
      ]
     },
     "execution_count": 36,
     "metadata": {},
     "output_type": "execute_result"
    }
   ],
   "source": [
    "a.mean(axis=0)"
   ]
  },
  {
   "cell_type": "code",
   "execution_count": 37,
   "metadata": {
    "colab": {
     "base_uri": "https://localhost:8080/"
    },
    "id": "8_-_MKeqD_Y7",
    "outputId": "f3a7d3a3-58a7-48b9-d08b-1acc2437d9bf"
   },
   "outputs": [
    {
     "data": {
      "text/plain": [
       "tensor([0.4852, 0.5500, 0.5500, 0.5500, 0.5500, 0.5038, 0.4658, 0.5259, 0.5500,\n",
       "        0.4500, 0.5402, 0.4500, 0.5500, 0.4840, 0.5222, 0.5500, 0.5103, 0.5500,\n",
       "        0.5500, 0.4500])"
      ]
     },
     "execution_count": 37,
     "metadata": {},
     "output_type": "execute_result"
    }
   ],
   "source": [
    "a.mean(axis=0).clip(min=0.45, max=0.55)"
   ]
  },
  {
   "cell_type": "code",
   "execution_count": 38,
   "metadata": {
    "colab": {
     "base_uri": "https://localhost:8080/"
    },
    "id": "r0mqqVR3ELwi",
    "outputId": "916d9edf-3b2c-441b-a492-e7c9c2a286d4"
   },
   "outputs": [
    {
     "data": {
      "text/plain": [
       "tensor(6.1479)"
      ]
     },
     "execution_count": 38,
     "metadata": {},
     "output_type": "execute_result"
    }
   ],
   "source": [
    "a.norm()"
   ]
  },
  {
   "cell_type": "code",
   "execution_count": 39,
   "metadata": {
    "colab": {
     "base_uri": "https://localhost:8080/"
    },
    "id": "ecESvnFcEPeZ",
    "outputId": "204e4570-bcce-4cdd-c97b-9b217f2968ca"
   },
   "outputs": [
    {
     "data": {
      "text/plain": [
       "tensor([0.4900, 0.3482, 0.8949, 0.8758, 0.5319, 0.6167, 0.8539, 0.2948, 0.3002,\n",
       "        0.5883, 0.0181, 0.4062, 0.1126, 0.5991, 0.2320, 0.5963, 0.1228, 0.9220,\n",
       "        0.5026, 0.0936])"
      ]
     },
     "execution_count": 39,
     "metadata": {},
     "output_type": "execute_result"
    }
   ],
   "source": [
    "a[0]"
   ]
  },
  {
   "cell_type": "code",
   "execution_count": 40,
   "metadata": {
    "colab": {
     "base_uri": "https://localhost:8080/"
    },
    "id": "2tdgl5k8EUxi",
    "outputId": "b23c7db2-f702-4a27-f9f6-fc17ede29166"
   },
   "outputs": [
    {
     "data": {
      "text/plain": [
       "tensor(0.8949)"
      ]
     },
     "execution_count": 40,
     "metadata": {},
     "output_type": "execute_result"
    }
   ],
   "source": [
    "a[0, 2]"
   ]
  },
  {
   "cell_type": "code",
   "execution_count": 41,
   "metadata": {
    "colab": {
     "base_uri": "https://localhost:8080/"
    },
    "id": "TfU22J4PEV_7",
    "outputId": "0687d479-a8da-4a13-e8ca-885720389c54"
   },
   "outputs": [
    {
     "data": {
      "text/plain": [
       "tensor([[0.4900, 0.3482, 0.8949, 0.8758, 0.5319, 0.6167, 0.8539, 0.2948, 0.3002,\n",
       "         0.5883, 0.0181, 0.4062, 0.1126, 0.5991, 0.2320, 0.5963, 0.1228, 0.9220,\n",
       "         0.5026, 0.0936],\n",
       "        [0.5489, 0.5154, 0.3623, 0.8877, 0.4064, 0.5364, 0.4161, 0.9100, 0.0068,\n",
       "         0.5399, 0.7196, 0.3776, 0.8962, 0.4249, 0.7989, 0.8944, 0.5066, 0.9353,\n",
       "         0.7374, 0.5219]])"
      ]
     },
     "execution_count": 41,
     "metadata": {},
     "output_type": "execute_result"
    }
   ],
   "source": [
    "a[[0, 2]]"
   ]
  },
  {
   "cell_type": "code",
   "execution_count": 42,
   "metadata": {
    "colab": {
     "base_uri": "https://localhost:8080/"
    },
    "id": "oKEqGJAtEYmL",
    "outputId": "4cd1c1ae-c191-48c3-ad58-8a6e5f69db18"
   },
   "outputs": [
    {
     "data": {
      "text/plain": [
       "tensor([[0.4900, 0.3482, 0.8949, 0.8758, 0.5319, 0.6167, 0.8539, 0.2948, 0.3002,\n",
       "         0.5883, 0.0181, 0.4062, 0.1126, 0.5991, 0.2320, 0.5963, 0.1228, 0.9220,\n",
       "         0.5026, 0.0936],\n",
       "        [0.5489, 0.5154, 0.3623, 0.8877, 0.4064, 0.5364, 0.4161, 0.9100, 0.0068,\n",
       "         0.5399, 0.7196, 0.3776, 0.8962, 0.4249, 0.7989, 0.8944, 0.5066, 0.9353,\n",
       "         0.7374, 0.5219]])"
      ]
     },
     "execution_count": 42,
     "metadata": {},
     "output_type": "execute_result"
    }
   ],
   "source": [
    "a[[True, False, True, False, False]]"
   ]
  },
  {
   "cell_type": "code",
   "execution_count": 43,
   "metadata": {
    "colab": {
     "base_uri": "https://localhost:8080/"
    },
    "id": "aeoBZvzREcmS",
    "outputId": "e9412f9d-2336-4a7d-ec1b-079a7a3b7288"
   },
   "outputs": [
    {
     "data": {
      "text/plain": [
       "tensor([[False, False,  True,  True,  True,  True,  True, False, False,  True,\n",
       "         False, False, False,  True, False,  True, False,  True,  True, False],\n",
       "        [ True,  True, False, False, False, False, False,  True,  True, False,\n",
       "          True, False,  True,  True, False, False, False, False, False, False],\n",
       "        [ True,  True, False,  True, False,  True, False,  True, False,  True,\n",
       "          True, False,  True, False,  True,  True,  True,  True,  True,  True],\n",
       "        [False,  True,  True,  True,  True,  True, False,  True,  True, False,\n",
       "         False, False,  True,  True,  True,  True,  True,  True,  True,  True],\n",
       "        [False, False, False, False,  True, False,  True, False,  True, False,\n",
       "          True,  True,  True, False, False,  True,  True,  True,  True, False]])"
      ]
     },
     "execution_count": 43,
     "metadata": {},
     "output_type": "execute_result"
    }
   ],
   "source": [
    "mask = a > 0.5\n",
    "mask"
   ]
  },
  {
   "cell_type": "code",
   "execution_count": 44,
   "metadata": {
    "colab": {
     "base_uri": "https://localhost:8080/"
    },
    "id": "7QGDgH7LEe2Z",
    "outputId": "a3f6d42a-dee6-44af-b676-4f36abdbc871"
   },
   "outputs": [
    {
     "data": {
      "text/plain": [
       "tensor([False, False,  True,  True,  True,  True,  True, False, False,  True,\n",
       "        False, False, False,  True, False,  True, False,  True,  True, False])"
      ]
     },
     "execution_count": 44,
     "metadata": {},
     "output_type": "execute_result"
    }
   ],
   "source": [
    "mask[0]"
   ]
  },
  {
   "cell_type": "code",
   "execution_count": 45,
   "metadata": {
    "colab": {
     "base_uri": "https://localhost:8080/"
    },
    "id": "23gQQLSqEwBD",
    "outputId": "e2341924-0f8d-4d48-afbc-c6c80d8ff468"
   },
   "outputs": [
    {
     "data": {
      "text/plain": [
       "tensor([[ 2],\n",
       "        [ 3],\n",
       "        [ 4],\n",
       "        [ 5],\n",
       "        [ 6],\n",
       "        [ 9],\n",
       "        [13],\n",
       "        [15],\n",
       "        [17],\n",
       "        [18]])"
      ]
     },
     "execution_count": 45,
     "metadata": {},
     "output_type": "execute_result"
    }
   ],
   "source": [
    "indices = mask[0].nonzero()\n",
    "indices"
   ]
  },
  {
   "cell_type": "code",
   "execution_count": 46,
   "metadata": {
    "colab": {
     "base_uri": "https://localhost:8080/"
    },
    "id": "l-ZCLt_TE49E",
    "outputId": "9ca0e138-8c0a-45b2-9a3e-559224bee7e0"
   },
   "outputs": [
    {
     "data": {
      "text/plain": [
       "tensor([[True],\n",
       "        [True],\n",
       "        [True],\n",
       "        [True],\n",
       "        [True],\n",
       "        [True],\n",
       "        [True],\n",
       "        [True],\n",
       "        [True],\n",
       "        [True]])"
      ]
     },
     "execution_count": 46,
     "metadata": {},
     "output_type": "execute_result"
    }
   ],
   "source": [
    "mask[0][indices]"
   ]
  },
  {
   "cell_type": "code",
   "execution_count": 47,
   "metadata": {
    "colab": {
     "base_uri": "https://localhost:8080/"
    },
    "id": "oSknRJHYFHF5",
    "outputId": "e8a3d565-9436-410e-bd45-865d8561391d"
   },
   "outputs": [
    {
     "data": {
      "text/plain": [
       "tensor([False, False, False, False, False, False, False, False, False, False,\n",
       "        False, False, False, False, False, False, False, False, False, False])"
      ]
     },
     "execution_count": 47,
     "metadata": {},
     "output_type": "execute_result"
    }
   ],
   "source": [
    "mask.all(axis=0)"
   ]
  },
  {
   "cell_type": "code",
   "execution_count": 48,
   "metadata": {
    "colab": {
     "base_uri": "https://localhost:8080/"
    },
    "id": "oBBb2palFMLK",
    "outputId": "e6779617-cb50-46a8-a24e-41845e5ec3d4"
   },
   "outputs": [
    {
     "data": {
      "text/plain": [
       "tensor([True, True, True, True, True])"
      ]
     },
     "execution_count": 48,
     "metadata": {},
     "output_type": "execute_result"
    }
   ],
   "source": [
    "mask.any(axis=1)"
   ]
  },
  {
   "cell_type": "code",
   "execution_count": 49,
   "metadata": {
    "colab": {
     "base_uri": "https://localhost:8080/"
    },
    "id": "ihKOFmX7FY7T",
    "outputId": "d944555c-2e2e-4ff1-e6d1-ee91932eec61"
   },
   "outputs": [
    {
     "data": {
      "text/plain": [
       "tensor([0.8949, 0.8758, 0.5319, 0.6167, 0.8539, 0.5883, 0.5991, 0.5963, 0.9220,\n",
       "        0.5026, 0.9129, 0.9999, 0.7076, 0.9577, 0.9390, 0.6820, 0.5600, 0.5489,\n",
       "        0.5154, 0.8877, 0.5364, 0.9100, 0.5399, 0.7196, 0.8962, 0.7989, 0.8944,\n",
       "        0.5066, 0.9353, 0.7374, 0.5219, 0.8840, 0.8011, 0.8149, 0.8111, 0.6555,\n",
       "        0.5756, 0.9960, 0.7453, 0.6844, 0.9748, 0.8623, 0.9068, 0.7244, 0.9733,\n",
       "        0.7085, 0.8408, 0.5933, 0.8381, 0.6212, 0.5382, 0.8246, 0.8299, 0.5475,\n",
       "        0.9760, 0.9097])"
      ]
     },
     "execution_count": 49,
     "metadata": {},
     "output_type": "execute_result"
    }
   ],
   "source": [
    "b = a[mask]\n",
    "b"
   ]
  },
  {
   "cell_type": "code",
   "execution_count": 50,
   "metadata": {
    "colab": {
     "base_uri": "https://localhost:8080/"
    },
    "id": "_J2l31t5FenC",
    "outputId": "f2238735-d5bc-42a1-d91d-50855e60f06b"
   },
   "outputs": [
    {
     "data": {
      "text/plain": [
       "tensor([0.8949, 0.8758, 0.0000, 0.0000, 0.8539, 0.0000, 0.0000, 0.0000, 0.9220,\n",
       "        0.0000, 0.9129, 0.9999, 0.7076, 0.9577, 0.9390, 0.0000, 0.0000, 0.0000,\n",
       "        0.0000, 0.8877, 0.0000, 0.9100, 0.0000, 0.7196, 0.8962, 0.7989, 0.8944,\n",
       "        0.0000, 0.9353, 0.7374, 0.0000, 0.8840, 0.8011, 0.8149, 0.8111, 0.0000,\n",
       "        0.0000, 0.9960, 0.7453, 0.0000, 0.9748, 0.8623, 0.9068, 0.7244, 0.9733,\n",
       "        0.7085, 0.8408, 0.0000, 0.8381, 0.0000, 0.0000, 0.8246, 0.8299, 0.0000,\n",
       "        0.9760, 0.9097])"
      ]
     },
     "execution_count": 50,
     "metadata": {},
     "output_type": "execute_result"
    }
   ],
   "source": [
    "b[b < 0.7] = 0\n",
    "b"
   ]
  },
  {
   "cell_type": "markdown",
   "metadata": {
    "collapsed": false
   },
   "source": [
    "References\n",
    "\n",
    "* https://pytorch.org/docs/stable/torch.html#creation-ops\n",
    "* https://pytorch.org/docs/stable/tensors.html#data-types\n",
    "* https://pytorch.org/docs/stable/torch.html#math-operations"
   ]
  }
 ],
 "metadata": {
  "accelerator": "GPU",
  "colab": {
   "gpuType": "T4",
   "include_colab_link": true,
   "provenance": []
  },
  "kernelspec": {
   "display_name": "Python 3",
   "name": "python3"
  },
  "language_info": {
   "name": "python"
  }
 },
 "nbformat": 4,
 "nbformat_minor": 0
}
