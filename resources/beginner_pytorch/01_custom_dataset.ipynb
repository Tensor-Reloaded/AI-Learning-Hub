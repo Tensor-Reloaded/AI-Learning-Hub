{
  "cells": [
    {
      "cell_type": "markdown",
      "metadata": {},
      "source": [
        "# 01. Custom Dataset\n",
        "\n",
        "\n",
        "Official documentation: https://docs.pytorch.org/docs/stable/data.html\n",
        "\n",
        "Reading documentation helps your brain.\n",
        "\n",
        "There are two types of datasets in PyTorch:\n",
        "* map-style , but I like to call them list-style, because they act as if they were lists: https://docs.pytorch.org/docs/stable/data.html#torch.utils.data.Dataset\n",
        "* iterable-style: https://docs.pytorch.org/docs/stable/data.html#torch.utils.data.IterableDataset\n"
      ]
    },
    {
      "cell_type": "code",
      "execution_count": 27,
      "metadata": {},
      "outputs": [],
      "source": [
        "import torch\n",
        "import torchvision\n",
        "\n",
        "from torchvision.transforms import v2\n",
        "from torch.utils.data import Dataset, IterableDataset\n",
        "\n",
        "import matplotlib.pyplot as plt"
      ]
    },
    {
      "cell_type": "markdown",
      "metadata": {},
      "source": [
        "---\n",
        "\n",
        "## Map-stype datasets"
      ]
    },
    {
      "cell_type": "code",
      "execution_count": 19,
      "metadata": {},
      "outputs": [
        {
          "name": "stdout",
          "output_type": "stream",
          "text": [
            "1 odd\n",
            "2 even\n",
            "3 odd\n",
            "4 even\n",
            "5 odd\n"
          ]
        }
      ],
      "source": [
        "class MyDataset(Dataset):\n",
        "    def __init__(self):\n",
        "        self.data = [1, 2, 3, 4, 5]\n",
        "        self.labels = [\"odd\", \"even\", \"odd\", \"even\", \"odd\"]\n",
        "\n",
        "    def __len__(self) -> int:\n",
        "        # DataLoader uses this to know dataset size\n",
        "        return len(self.data)\n",
        "\n",
        "    def __getitem__(self, i: int):\n",
        "        # returns one sample by index\n",
        "        return self.data[i], self.labels[i]\n",
        "\n",
        "dataset = MyDataset()\n",
        "for data, label in dataset:\n",
        "    print(data, label)"
      ]
    },
    {
      "cell_type": "code",
      "execution_count": 20,
      "metadata": {},
      "outputs": [
        {
          "data": {
            "text/plain": [
              "(1, 'odd')"
            ]
          },
          "execution_count": 20,
          "metadata": {},
          "output_type": "execute_result"
        }
      ],
      "source": [
        "# We can use it as a list\n",
        "dataset[0]"
      ]
    },
    {
      "cell_type": "code",
      "execution_count": 21,
      "metadata": {},
      "outputs": [
        {
          "data": {
            "text/plain": [
              "(5, 'odd')"
            ]
          },
          "execution_count": 21,
          "metadata": {},
          "output_type": "execute_result"
        }
      ],
      "source": [
        "dataset[-1]"
      ]
    },
    {
      "cell_type": "markdown",
      "metadata": {},
      "source": [
        "MNIST example with even and odd"
      ]
    },
    {
      "cell_type": "code",
      "execution_count": 25,
      "metadata": {},
      "outputs": [
        {
          "name": "stdout",
          "output_type": "stream",
          "text": [
            "Items in dataset: 60000\n",
            "First item: torch.Size([1, 28, 28])\n",
            "First label: (5, 'odd')\n"
          ]
        }
      ],
      "source": [
        "class MNIST_even_odd(Dataset):\n",
        "    def __init__(self, root: str = \"./data\", train: bool = True):\n",
        "        self.base = torchvision.datasets.MNIST(\n",
        "            root=root,\n",
        "            train=train,\n",
        "            download=True,\n",
        "            transform=v2.Compose([  # Ignore this for now. It's used to transform the raw images to 0-1 tensors\n",
        "                v2.ToImage(),  # This transforms the PIL image to a tensor.\n",
        "                v2.ToDtype(torch.float32, scale=True),  # This scales the pixel values to be between 0 and 1.\n",
        "            ]),\n",
        "        )\n",
        "\n",
        "    def __len__(self):\n",
        "        # size of wrapped dataset\n",
        "        return len(self.base)\n",
        "\n",
        "    def __getitem__(self, i: int):\n",
        "        image, label = self.base[i]  # We extract data from the wrapped dataset\n",
        "        parity = \"even\" if label % 2 == 0 else \"odd\"\n",
        "        return image, label, parity\n",
        "\n",
        "\n",
        "mod4 = MNIST_even_odd(train=True)\n",
        "print(\"Items in dataset:\", len(mod4))\n",
        "print(\"First item:\", mod4[0][0].shape)\n",
        "print(\"First label:\", mod4[0][1:])"
      ]
    },
    {
      "cell_type": "code",
      "execution_count": 24,
      "metadata": {},
      "outputs": [
        {
          "data": {
            "image/png": "[encoded data removed]",
            "text/plain": [
              "<Figure size 1000x300 with 8 Axes>"
            ]
          },
          "metadata": {},
          "output_type": "display_data"
        }
      ],
      "source": [
        "plt.figure(figsize=(10, 3))\n",
        "for i in range(8):\n",
        "    image, label, parity = mod4[i]\n",
        "    plt.subplot(2, 4, i + 1)\n",
        "    plt.imshow(image.squeeze(), cmap='gray')\n",
        "    plt.title(f\"{label} {parity}\")\n",
        "    plt.axis('off')\n",
        "plt.tight_layout()"
      ]
    },
    {
      "cell_type": "markdown",
      "metadata": {},
      "source": [
        "---\n",
        "\n",
        "## Iterable datasets"
      ]
    },
    {
      "cell_type": "code",
      "execution_count": 34,
      "metadata": {},
      "outputs": [
        {
          "name": "stdout",
          "output_type": "stream",
          "text": [
            "0 tensor([0.3026]) tensor([False])\n",
            "1 tensor([0.3134]) tensor([False])\n",
            "2 tensor([0.7068]) tensor([True])\n"
          ]
        }
      ],
      "source": [
        "class StreamedPairs(IterableDataset):\n",
        "    def __iter__(self):\n",
        "        # infinite stream; consumer should break\n",
        "        while True:\n",
        "            x = torch.rand(1)\n",
        "            y = x > 0.5\n",
        "            yield x, y\n",
        "\n",
        "stream = StreamedPairs()\n",
        "\n",
        "# consume a few batches\n",
        "for i, (a, b) in enumerate(stream):\n",
        "    print(i, a, b)\n",
        "    if i >= 2:\n",
        "        break\n"
      ]
    },
    {
      "cell_type": "code",
      "execution_count": null,
      "metadata": {},
      "outputs": [],
      "source": []
    }
  ],
  "metadata": {
    "kernelspec": {
      "display_name": "bit_313",
      "language": "python",
      "name": "python3"
    },
    "language_info": {
      "codemirror_mode": {
        "name": "ipython",
        "version": 3
      },
      "file_extension": ".py",
      "mimetype": "text/x-python",
      "name": "python",
      "nbconvert_exporter": "python",
      "pygments_lexer": "ipython3",
      "version": "3.13.3"
    }
  },
  "nbformat": 4,
  "nbformat_minor": 2
}
