{
  "cells": [
    {
      "cell_type": "markdown",
      "metadata": {},
      "source": [
        "# 02. DataLoader\n",
        "\n",
        "\n",
        "Official documentation: https://docs.pytorch.org/docs/stable/data.html\n",
        "\n",
        "DataLoader class:\n",
        "* https://docs.pytorch.org/docs/stable/data.html#torch.utils.data.DataLoader\n"
      ]
    },
    {
      "cell_type": "code",
      "execution_count": 36,
      "metadata": {},
      "outputs": [],
      "source": [
        "import time\n",
        "\n",
        "from multiprocessing import freeze_support\n",
        "\n",
        "import torch\n",
        "from torch.utils.data import Dataset, DataLoader\n",
        "from torchvision.transforms import v2"
      ]
    },
    {
      "cell_type": "code",
      "execution_count": null,
      "metadata": {},
      "outputs": [],
      "source": [
        "class MyDataset(Dataset):\n",
        "    def __init__(self):\n",
        "        self.data = [1, 2, 3, 4, 5]\n",
        "        self.labels = [\"odd\", \"even\", \"odd\", \"even\", \"odd\"]\n",
        "        # The data and the labels must be of the same length\n",
        "\n",
        "    def __len__(self) -> int:\n",
        "        # DataLoader uses this to know dataset size\n",
        "        return len(self.data)\n",
        "\n",
        "    def __getitem__(self, i: int):\n",
        "        # returns one sample by index\n",
        "        return self.data[i], self.labels[i]"
      ]
    },
    {
      "cell_type": "code",
      "execution_count": null,
      "metadata": {},
      "outputs": [
        {
          "name": "stdout",
          "output_type": "stream",
          "text": [
            "Batch size 2\n",
            "\tEpoch 0\n",
            "\t\t 0 Batch tensor([1, 2]) ('odd', 'even')\n",
            "\t\t 0 Batch tensor([3, 4]) ('odd', 'even')\n",
            "\t\t 0 Batch tensor([5]) ('odd',)\n",
            "\tEpoch 1\n",
            "\t\t 1 Batch tensor([1, 2]) ('odd', 'even')\n",
            "\t\t 1 Batch tensor([3, 4]) ('odd', 'even')\n",
            "\t\t 1 Batch tensor([5]) ('odd',)\n",
            "\n",
            "Batch size 3\n",
            "\tEpoch 0\n",
            "\t\t 0 Batch tensor([1, 2, 3]) ('odd', 'even', 'odd')\n",
            "\t\t 0 Batch tensor([4, 5]) ('even', 'odd')\n",
            "\tEpoch 1\n",
            "\t\t 1 Batch tensor([1, 2, 3]) ('odd', 'even', 'odd')\n",
            "\t\t 1 Batch tensor([4, 5]) ('even', 'odd')\n",
            "\n",
            "Batch size 5\n",
            "\tEpoch 0\n",
            "\t\t 0 Batch tensor([1, 2, 3, 4, 5]) ('odd', 'even', 'odd', 'even', 'odd')\n",
            "\tEpoch 1\n",
            "\t\t 1 Batch tensor([1, 2, 3, 4, 5]) ('odd', 'even', 'odd', 'even', 'odd')\n",
            "\n"
          ]
        }
      ],
      "source": [
        "# The batch size controls the number of samples per batch\n",
        "for batch_size in [2, 3]:\n",
        "    print(\"Batch size\", batch_size)\n",
        "    dataloader = DataLoader(dataset, batch_size=batch_size)\n",
        "    for epoch in range(2):\n",
        "        print(\"\\tEpoch\", epoch)\n",
        "        for data, label in dataloader:\n",
        "            print(\"\\t\\t\", epoch, \"Batch\", data, label)\n",
        "    print()\n",
        "\n",
        "# Observe that the last batch is smaller if the dataset size is not a multiple of the batch size"
      ]
    },
    {
      "cell_type": "code",
      "execution_count": 31,
      "metadata": {},
      "outputs": [
        {
          "name": "stdout",
          "output_type": "stream",
          "text": [
            "Epoch 0\n",
            "\t 0 Batch tensor([1, 2]) ('odd', 'even')\n",
            "\t 0 Batch tensor([3, 4]) ('odd', 'even')\n",
            "Epoch 1\n",
            "\t 1 Batch tensor([1, 2]) ('odd', 'even')\n",
            "\t 1 Batch tensor([3, 4]) ('odd', 'even')\n"
          ]
        }
      ],
      "source": [
        "# We should use the drop_last=True option to drop the last batch if it is smaller than the batch size\n",
        "dataloader = DataLoader(dataset, batch_size=2, drop_last=True)\n",
        "for epoch in range(2):\n",
        "    print(\"Epoch\", epoch)\n",
        "    for data, label in dataloader:\n",
        "        print(\"\\t\", epoch, \"Batch\", data, label)"
      ]
    },
    {
      "cell_type": "code",
      "execution_count": 30,
      "metadata": {},
      "outputs": [
        {
          "name": "stdout",
          "output_type": "stream",
          "text": [
            "Epoch 0\n",
            "\t 0 Batch tensor([3, 1]) ('odd', 'odd')\n",
            "\t 0 Batch tensor([4, 2]) ('even', 'even')\n",
            "\t 0 Batch tensor([5]) ('odd',)\n",
            "Epoch 1\n",
            "\t 1 Batch tensor([5, 3]) ('odd', 'odd')\n",
            "\t 1 Batch tensor([4, 2]) ('even', 'even')\n",
            "\t 1 Batch tensor([1]) ('odd',)\n"
          ]
        }
      ],
      "source": [
        "# We should use shuffle=True to shuffle the data\n",
        "dataloader = DataLoader(dataset, batch_size=2, shuffle=True)\n",
        "for epoch in range(2):\n",
        "    print(\"Epoch\", epoch)\n",
        "    for data, label in dataloader:\n",
        "        print(\"\\t\", epoch, \"Batch\", data, label)"
      ]
    },
    {
      "cell_type": "markdown",
      "metadata": {},
      "source": [
        "---\n",
        "\n",
        "## Parallel data loading\n",
        "\n",
        "* See https://docs.pytorch.org/docs/stable/data.html#multi-process-data-loading\n",
        "* See [02_parallel_dataloader.py](./02_parallel_dataloader.py)"
      ]
    },
    {
      "cell_type": "markdown",
      "metadata": {},
      "source": [
        "Possible output:\n",
        "```\n",
        "Loading item 0 in main process\n",
        "Loading item 1 in main process\n",
        "Loading item 2 in main process\n",
        "Loading item 3 in main process\n",
        "load_data(0) -> total time: 8.007728800s\n",
        "Worker 0/2 is loading item 0\n",
        "Worker 1/2 is loading item 1\n",
        "Worker 0/2 is loading item 2\n",
        "Worker 1/2 is loading item 3\n",
        "load_data(2) -> total time: 7.586626900s\n",
        "Worker 2/4 is loading item 2\n",
        "Worker 3/4 is loading item 3\n",
        "Worker 0/4 is loading item 0\n",
        "Worker 1/4 is loading item 1\n",
        "load_data(4) -> total time: 7.876157100s\n",
        "Worker 0/8 is loading item 0\n",
        "Worker 1/8 is loading item 1\n",
        "Worker 2/8 is loading item 2\n",
        "Worker 3/8 is loading item 3\n",
        "load_data(8) -> total time: 8.691724500s\n",
        "\n",
        "num_workers: 0, time: 8.0077288 seconds\n",
        "num_workers: 2, time: 7.5866269 seconds\n",
        "num_workers: 4, time: 7.8761571 seconds\n",
        "num_workers: 8, time: 8.6917245 seconds\n",
        "Speedup: 1.0555058137892612, 1.0167050629297376, 0.9213049493227726\n",
        "```"
      ]
    }
  ],
  "metadata": {
    "kernelspec": {
      "display_name": "bit_313",
      "language": "python",
      "name": "python3"
    },
    "language_info": {
      "codemirror_mode": {
        "name": "ipython",
        "version": 3
      },
      "file_extension": ".py",
      "mimetype": "text/x-python",
      "name": "python",
      "nbconvert_exporter": "python",
      "pygments_lexer": "ipython3",
      "version": "3.13.3"
    }
  },
  "nbformat": 4,
  "nbformat_minor": 2
}
