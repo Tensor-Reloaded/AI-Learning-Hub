{
  "cells": [
    {
      "cell_type": "markdown",
      "metadata": {},
      "source": [
        "# 05. Learning Rate Schedulers\n"
      ]
    },
    {
      "cell_type": "markdown",
      "metadata": {},
      "source": [
        "### 1. Chech this guide for Learning Rate Schedulers in PyTorch\n",
        "* https://www.kaggle.com/code/isbhargav/guide-to-pytorch-learning-rate-scheduling"
      ]
    },
    {
      "cell_type": "markdown",
      "metadata": {},
      "source": [
        "### 2. Check the official documentation. The official documentation is usually the best place to get an answer.\n",
        "* https://docs.pytorch.org/docs/stable/optim.html#how-to-adjust-learning-rate"
      ]
    },
    {
      "cell_type": "markdown",
      "metadata": {},
      "source": [
        "Excercises:\n",
        "\n",
        "Use the pipeline from [04_optimizers.ipyn](./04_optimizers.ipyn) or an improved version. Test the following Learning Rate Schedulers:\n",
        "* StepLR\n",
        "* ReduceLROnPleateau\n",
        "* CosineAnnealingLR\n",
        "\n",
        "Each of the above LR Schedulers should be able to help you achieve over 98% accuracy on MNIST. Strive for 98.5%."
      ]
    }
  ],
  "metadata": {
    "language_info": {
      "name": "python"
    }
  },
  "nbformat": 4,
  "nbformat_minor": 2
}
