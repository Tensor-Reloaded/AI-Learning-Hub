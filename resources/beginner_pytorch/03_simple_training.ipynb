{
  "cells": [
    {
      "cell_type": "markdown",
      "metadata": {
        "id": "view-in-github",
        "colab_type": "text"
      },
      "source": [
        "<a href=\"https://colab.research.google.com/github/Tensor-Reloaded/AI-Learning-Hub/blob/main/resources/beginner_pytorch/03_simple_training.ipynb\" target=\"_parent\"><img src=\"https://colab.research.google.com/assets/colab-badge.svg\" alt=\"Open In Colab\"/></a>"
      ]
    },
    {
      "cell_type": "markdown",
      "metadata": {
        "id": "UJY7uE8SCn4z"
      },
      "source": [
        "# 03. Simple Training\n",
        "\n",
        "Consider the following problem:\n",
        "* Create a DL model able to classify 8-bit strings based on the number of 1 in the bit string: even or odd."
      ]
    },
    {
      "cell_type": "code",
      "execution_count": null,
      "metadata": {
        "id": "yK2jx5SMCn41"
      },
      "outputs": [],
      "source": [
        "import numpy as np\n",
        "import torch\n",
        "import torch.nn as nn\n",
        "from torch.utils.data import Dataset, DataLoader\n",
        "from tqdm import tqdm\n"
      ]
    },
    {
      "cell_type": "code",
      "execution_count": null,
      "metadata": {
        "id": "7fiSzV49Cn42"
      },
      "outputs": [],
      "source": [
        "def number_to_bits(x: int) -> torch.Tensor:\n",
        "    x = np.array([x], dtype=np.uint8)\n",
        "    x = np.unpackbits(x)\n",
        "    x = torch.from_numpy(x)\n",
        "    return x.to(torch.float32)\n",
        "\n",
        "\n",
        "def parity_label(x: torch.Tensor) -> int:\n",
        "    return x.sum().item() % 2"
      ]
    },
    {
      "cell_type": "code",
      "execution_count": null,
      "metadata": {
        "id": "FXIPihJSCn43"
      },
      "outputs": [],
      "source": [
        "class BitsParityDataset(Dataset):\n",
        "    def __init__(self, start: int, end: int):\n",
        "        self.start = start\n",
        "        self.end = end\n",
        "        self.items = list(range(start, end + 1))\n",
        "\n",
        "    def __len__(self) -> int:\n",
        "        return len(self.items)\n",
        "\n",
        "    def __getitem__(self, idx: int):\n",
        "        x = number_to_bits(self.items[idx])\n",
        "        y = parity_label(x)\n",
        "        return x, torch.tensor(y, dtype=torch.long)"
      ]
    },
    {
      "cell_type": "code",
      "execution_count": null,
      "metadata": {
        "id": "4HDr3lTZCn43"
      },
      "outputs": [],
      "source": [
        "class MLP(nn.Module):\n",
        "    def __init__(self, width: int = 8, hidden: int = 4):\n",
        "        super().__init__()\n",
        "        self.block = nn.Sequential(\n",
        "            nn.Linear(width, hidden),\n",
        "            nn.ReLU(),\n",
        "            nn.Linear(hidden, 2)\n",
        "        )\n",
        "\n",
        "    def forward(self, x: torch.Tensor) -> torch.Tensor:\n",
        "        return self.block(x)"
      ]
    },
    {
      "cell_type": "code",
      "execution_count": null,
      "metadata": {
        "id": "qAN2kIq-Cn43"
      },
      "outputs": [],
      "source": [
        "class Trainer:\n",
        "    def __init__(\n",
        "            self,\n",
        "            model: nn.Module,\n",
        "            optimizer: torch.optim.Optimizer,\n",
        "            criterion: nn.Module,\n",
        "            batch_size: int = 16,\n",
        "            val_batch_size: int = 32,\n",
        "            use_cpu: bool = False,\n",
        "    ):\n",
        "        self.batch_size = batch_size\n",
        "        self.val_batch_size = val_batch_size  # We can use a bigger batch size for validation\n",
        "\n",
        "        self.device = torch.device(\"cpu\") if use_cpu else torch.accelerator.current_accelerator()\n",
        "        # The current accelerator automically detects CUDA/MPS/CPU\n",
        "        print(f\"Using device: {self.device}\")\n",
        "\n",
        "        train_set = BitsParityDataset(0, 100)\n",
        "        val_set = BitsParityDataset(101, 127)\n",
        "        self.train_loader = DataLoader(train_set, batch_size=batch_size, shuffle=True)\n",
        "        self.val_loader = DataLoader(val_set, batch_size=val_batch_size, shuffle=False)\n",
        "        # We don't need to shuffle the validation set\n",
        "\n",
        "        self.model = model.to(self.device)  # The model must be on the same device\n",
        "        self.criterion = criterion.to(self.device)  # Required for some loss functions\n",
        "        self.optimizer = optimizer\n",
        "\n",
        "\n",
        "    def train(self):\n",
        "        self.model.train()\n",
        "\n",
        "        total = 0\n",
        "        correct = 0\n",
        "        total_loss = 0\n",
        "\n",
        "        for data, target in tqdm(self.train_loader, desc=\"Training\", leave=False):\n",
        "            # We must move the data to the same device as the model\n",
        "            data = data.to(self.device)\n",
        "            target = target.to(self.device)\n",
        "            # We can also use non_blocking=True to speed up the transfer for large tensors\n",
        "            # data = data.to(self.device, non_blocking=True)\n",
        "            # but this is useful only for pinned memory transfers (CPU-to-GPU)\n",
        "            # In most cases, the improvement is negligible\n",
        "\n",
        "            predicted = self.model(data)\n",
        "            loss = self.criterion(predicted, target)\n",
        "            loss.backward()\n",
        "\n",
        "            self.optimizer.step()\n",
        "            self.optimizer.zero_grad()\n",
        "\n",
        "            correct += (predicted.argmax(dim=1) == target).sum().item()\n",
        "            total += data.size(0)\n",
        "            total_loss += loss.item() * data.size(0)\n",
        "\n",
        "        return total_loss / total, correct / total\n",
        "\n",
        "    # @torch.no_grad()  # This is what you usually see in tutorials\n",
        "    @torch.inference_mode()  # This is the recommended way to do this\n",
        "    def val(self):\n",
        "        self.model.eval()\n",
        "\n",
        "        total = 0\n",
        "        correct = 0\n",
        "        total_loss = 0\n",
        "\n",
        "        for data, target in tqdm(self.val_loader, desc=\"Validation\", leave=False):\n",
        "            data = data.to(self.device)\n",
        "            target = target.to(self.device)\n",
        "\n",
        "            predicted = self.model(data)\n",
        "            loss = self.criterion(predicted, target)\n",
        "\n",
        "            correct += (predicted.argmax(dim=1) == target).sum().item()\n",
        "            total += data.size(0)\n",
        "            total_loss += loss.item() * data.size(0)\n",
        "\n",
        "        return total_loss / total, correct / total\n",
        "\n",
        "    def run(self, epochs: int):\n",
        "        print(f\"Running {epochs} epochs\")\n",
        "        with tqdm(range(epochs), desc=\"Training\") as pbar:\n",
        "            for _ in pbar:\n",
        "                tr_loss, tr_acc = self.train()\n",
        "                va_loss, va_acc = self.val()\n",
        "                pbar.set_postfix(train_loss=tr_loss, train_acc=tr_acc, val_loss=va_loss, val_acc=va_acc)\n",
        "        print(\"Last validation accuracy: \", va_acc)\n",
        "        print()"
      ]
    },
    {
      "cell_type": "code",
      "execution_count": null,
      "metadata": {
        "id": "wXZZjR6fCn43"
      },
      "outputs": [],
      "source": [
        "def main(epochs: int, use_cpu: bool):\n",
        "    model = MLP()\n",
        "    optimizer = torch.optim.SGD(model.parameters(), lr=0.1)\n",
        "    criterion = nn.CrossEntropyLoss()\n",
        "\n",
        "    trainer = Trainer(model, optimizer, criterion, use_cpu=use_cpu)\n",
        "    trainer.run(epochs)\n"
      ]
    },
    {
      "cell_type": "code",
      "execution_count": null,
      "metadata": {
        "id": "a56eAWKkCn44",
        "outputId": "08ccce94-bbba-47b8-deda-de1402b908e0"
      },
      "outputs": [
        {
          "name": "stdout",
          "output_type": "stream",
          "text": [
            "Using device: cpu\n",
            "Running 100 epochs\n"
          ]
        },
        {
          "name": "stderr",
          "output_type": "stream",
          "text": [
            "Training: 100%|██████████| 100/100 [00:02<00:00, 48.72it/s, train_acc=0.485, train_loss=0.689, val_acc=0.519, val_loss=0.692]\n"
          ]
        },
        {
          "name": "stdout",
          "output_type": "stream",
          "text": [
            "Last validation accuracy:  0.5185185185185185\n",
            "\n",
            "Using device: cpu\n",
            "Running 100 epochs\n"
          ]
        },
        {
          "name": "stderr",
          "output_type": "stream",
          "text": [
            "Training: 100%|██████████| 100/100 [00:01<00:00, 51.23it/s, train_acc=0.554, train_loss=0.681, val_acc=0.593, val_loss=0.72]\n"
          ]
        },
        {
          "name": "stdout",
          "output_type": "stream",
          "text": [
            "Last validation accuracy:  0.5925925925925926\n",
            "\n",
            "Using device: cpu\n",
            "Running 100 epochs\n"
          ]
        },
        {
          "name": "stderr",
          "output_type": "stream",
          "text": [
            "Training: 100%|██████████| 100/100 [00:01<00:00, 53.27it/s, train_acc=0.644, train_loss=0.676, val_acc=0.667, val_loss=0.674]"
          ]
        },
        {
          "name": "stdout",
          "output_type": "stream",
          "text": [
            "Last validation accuracy:  0.6666666666666666\n",
            "\n"
          ]
        },
        {
          "name": "stderr",
          "output_type": "stream",
          "text": [
            "\n"
          ]
        }
      ],
      "source": [
        "if __name__ == '__main__':\n",
        "    main(100, True)\n",
        "    main(100, True)\n",
        "    main(100, True)\n"
      ]
    },
    {
      "cell_type": "markdown",
      "metadata": {
        "id": "Z-9H4RLLCn45"
      },
      "source": [
        "---\n",
        "Why is it hard for the model to perfectly learn the rule?\n",
        "\n",
        "Can we use a rule-based algorithm to perfectly solve this problem?\n",
        "\n",
        "Can we adapt the data to help the neural network learn better?"
      ]
    },
    {
      "cell_type": "code",
      "execution_count": null,
      "metadata": {
        "id": "S8bTl3zzCn46",
        "outputId": "0943c6a2-e71e-45de-8dbe-32a031f4ba0e"
      },
      "outputs": [
        {
          "name": "stdout",
          "output_type": "stream",
          "text": [
            "Using device: cpu\n",
            "Running 100 epochs\n"
          ]
        },
        {
          "name": "stderr",
          "output_type": "stream",
          "text": [
            "Training: 100%|██████████| 100/100 [00:01<00:00, 51.42it/s, train_acc=1, train_loss=0.00153, val_acc=1, val_loss=0.00374]\n"
          ]
        },
        {
          "name": "stdout",
          "output_type": "stream",
          "text": [
            "Last validation accuracy:  1.0\n",
            "\n",
            "Using device: cpu\n",
            "Running 100 epochs\n"
          ]
        },
        {
          "name": "stderr",
          "output_type": "stream",
          "text": [
            "Training: 100%|██████████| 100/100 [00:01<00:00, 52.42it/s, train_acc=1, train_loss=0.000737, val_acc=1, val_loss=0.00102]\n"
          ]
        },
        {
          "name": "stdout",
          "output_type": "stream",
          "text": [
            "Last validation accuracy:  1.0\n",
            "\n",
            "Using device: cpu\n",
            "Running 100 epochs\n"
          ]
        },
        {
          "name": "stderr",
          "output_type": "stream",
          "text": [
            "Training: 100%|██████████| 100/100 [00:01<00:00, 54.68it/s, train_acc=1, train_loss=0.000894, val_acc=1, val_loss=0.00333]"
          ]
        },
        {
          "name": "stdout",
          "output_type": "stream",
          "text": [
            "Last validation accuracy:  1.0\n",
            "\n"
          ]
        },
        {
          "name": "stderr",
          "output_type": "stream",
          "text": [
            "\n"
          ]
        }
      ],
      "source": [
        "def number_to_bits(x: int) -> torch.Tensor:\n",
        "    x = np.array([x], dtype=np.uint8)\n",
        "    x = np.unpackbits(x)\n",
        "    x = torch.from_numpy(x)\n",
        "    return (x.to(torch.float32) - 0.5) * 2\n",
        "\n",
        "\n",
        "if __name__ == '__main__':\n",
        "    main(100, True)\n",
        "    main(100, True)\n",
        "    main(100, True)\n",
        "\n",
        "# Wait! What? What did I just do?\n",
        "# Why is it easier for the model to learn a mapping between the binary representation if we replace it with -1, 1?\n",
        "# Knowing the answer to this question will be helful in the long run. Keep it in mind and revisit it when you have more experience."
      ]
    },
    {
      "cell_type": "code",
      "execution_count": null,
      "metadata": {
        "id": "gnNvCZIrCn46",
        "outputId": "31ad1bce-c1e9-4cb8-f9f6-1b34f09becd4"
      },
      "outputs": [
        {
          "name": "stdout",
          "output_type": "stream",
          "text": [
            "Using device: cpu\n",
            "Running 100 epochs\n"
          ]
        },
        {
          "name": "stderr",
          "output_type": "stream",
          "text": [
            "Training: 100%|██████████| 100/100 [00:02<00:00, 49.13it/s, train_acc=0.594, train_loss=0.674, val_acc=0.63, val_loss=0.66] \n"
          ]
        },
        {
          "name": "stdout",
          "output_type": "stream",
          "text": [
            "Last validation accuracy:  0.6296296296296297\n",
            "\n",
            "Using device: cpu\n",
            "Running 100 epochs\n"
          ]
        },
        {
          "name": "stderr",
          "output_type": "stream",
          "text": [
            "Training: 100%|██████████| 100/100 [00:02<00:00, 49.31it/s, train_acc=0.564, train_loss=0.691, val_acc=0.444, val_loss=0.691]\n"
          ]
        },
        {
          "name": "stdout",
          "output_type": "stream",
          "text": [
            "Last validation accuracy:  0.4444444444444444\n",
            "\n",
            "Using device: cpu\n",
            "Running 100 epochs\n"
          ]
        },
        {
          "name": "stderr",
          "output_type": "stream",
          "text": [
            "Training: 100%|██████████| 100/100 [00:01<00:00, 51.15it/s, train_acc=0.604, train_loss=0.686, val_acc=0.556, val_loss=0.682]\n"
          ]
        },
        {
          "name": "stdout",
          "output_type": "stream",
          "text": [
            "Last validation accuracy:  0.5555555555555556\n",
            "\n"
          ]
        }
      ],
      "source": [
        "def number_to_bits(x: int) -> torch.Tensor:\n",
        "    x = np.array([x], dtype=np.uint8)\n",
        "    x = np.unpackbits(x)\n",
        "    x = torch.from_numpy(x)\n",
        "    return (x.to(torch.float32) - 0.5)\n",
        "\n",
        "if __name__ == '__main__':\n",
        "    main(100, True)\n",
        "    main(100, True)\n",
        "    main(100, True)\n",
        "# If I use (-0.5, 0.5), the model is not able to learn the rule anymore. Why?"
      ]
    },
    {
      "cell_type": "code",
      "execution_count": null,
      "metadata": {
        "id": "JAJd4UKUCn47",
        "outputId": "cdf59554-d365-4537-fe8c-3af35ef6b59f"
      },
      "outputs": [
        {
          "name": "stdout",
          "output_type": "stream",
          "text": [
            "Using device: cpu\n",
            "Running 200 epochs\n"
          ]
        },
        {
          "name": "stderr",
          "output_type": "stream",
          "text": [
            "Training: 100%|██████████| 200/200 [00:03<00:00, 55.75it/s, train_acc=0.653, train_loss=0.657, val_acc=0.593, val_loss=0.662]\n"
          ]
        },
        {
          "name": "stdout",
          "output_type": "stream",
          "text": [
            "Last validation accuracy:  0.5925925925925926\n",
            "\n",
            "Using device: cuda\n",
            "Running 200 epochs\n"
          ]
        },
        {
          "name": "stderr",
          "output_type": "stream",
          "text": [
            "Training: 100%|██████████| 200/200 [00:05<00:00, 38.57it/s, train_acc=0.604, train_loss=0.683, val_acc=0.407, val_loss=0.695]\n"
          ]
        },
        {
          "name": "stdout",
          "output_type": "stream",
          "text": [
            "Last validation accuracy:  0.4074074074074074\n",
            "\n",
            "Using device: cpu\n",
            "Running 400 epochs\n"
          ]
        },
        {
          "name": "stderr",
          "output_type": "stream",
          "text": [
            "Training: 100%|██████████| 400/400 [00:07<00:00, 54.61it/s, train_acc=0.525, train_loss=0.692, val_acc=0.407, val_loss=0.691]\n"
          ]
        },
        {
          "name": "stdout",
          "output_type": "stream",
          "text": [
            "Last validation accuracy:  0.4074074074074074\n",
            "\n",
            "Using device: cuda\n",
            "Running 400 epochs\n"
          ]
        },
        {
          "name": "stderr",
          "output_type": "stream",
          "text": [
            "Training: 100%|██████████| 400/400 [00:10<00:00, 39.41it/s, train_acc=0.693, train_loss=0.639, val_acc=0.63, val_loss=0.722] \n"
          ]
        },
        {
          "name": "stdout",
          "output_type": "stream",
          "text": [
            "Last validation accuracy:  0.6296296296296297\n",
            "\n",
            "Using device: cpu\n",
            "Running 800 epochs\n"
          ]
        },
        {
          "name": "stderr",
          "output_type": "stream",
          "text": [
            "Training: 100%|██████████| 800/800 [00:14<00:00, 54.19it/s, train_acc=0.683, train_loss=0.63, val_acc=0.704, val_loss=0.602] \n"
          ]
        },
        {
          "name": "stdout",
          "output_type": "stream",
          "text": [
            "Last validation accuracy:  0.7037037037037037\n",
            "\n",
            "Using device: cuda\n",
            "Running 800 epochs\n"
          ]
        },
        {
          "name": "stderr",
          "output_type": "stream",
          "text": [
            "Training: 100%|██████████| 800/800 [00:20<00:00, 39.72it/s, train_acc=0.535, train_loss=0.662, val_acc=0.444, val_loss=0.707]"
          ]
        },
        {
          "name": "stdout",
          "output_type": "stream",
          "text": [
            "Last validation accuracy:  0.4444444444444444\n",
            "\n"
          ]
        },
        {
          "name": "stderr",
          "output_type": "stream",
          "text": [
            "\n"
          ]
        }
      ],
      "source": [
        "if __name__ == '__main__':\n",
        "    # Some more experiments to evaluate the effect of the number of epochs and device\n",
        "    main(200, True)\n",
        "    main(200, False)\n",
        "    main(400, True)\n",
        "    main(400, False)\n",
        "    main(800, True)\n",
        "    main(800, False)\n",
        "\n"
      ]
    },
    {
      "cell_type": "markdown",
      "metadata": {
        "id": "WAFmk8aRCn47"
      },
      "source": [
        "---\n",
        "\n",
        "What you should learn from this:\n",
        "* cuda is slower than cpu for small models. This is due to the overhead of transfer between host and device (RAM and VRAM)\n",
        "* Training longer usually leads to better results, but can also lead to overfitting\n",
        "* Results depend on network initialization\n",
        "\n",
        "Data is usually the most important when training a neural network"
      ]
    }
  ],
  "metadata": {
    "kernelspec": {
      "display_name": "bit_313",
      "language": "python",
      "name": "python3"
    },
    "language_info": {
      "codemirror_mode": {
        "name": "ipython",
        "version": 3
      },
      "file_extension": ".py",
      "mimetype": "text/x-python",
      "name": "python",
      "nbconvert_exporter": "python",
      "pygments_lexer": "ipython3",
      "version": "3.13.3"
    },
    "colab": {
      "provenance": [],
      "include_colab_link": true
    }
  },
  "nbformat": 4,
  "nbformat_minor": 0
}