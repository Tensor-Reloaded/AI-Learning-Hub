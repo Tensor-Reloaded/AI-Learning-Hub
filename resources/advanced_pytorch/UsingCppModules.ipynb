{
  "cells": [
    {
      "cell_type": "markdown",
      "metadata": {
        "id": "view-in-github",
        "colab_type": "text"
      },
      "source": [
        "<a href=\"https://colab.research.google.com/github/Tensor-Reloaded/AI-Learning-Hub/blob/main/resources/advanced_pytorch/UsingCppModules.ipynb\" target=\"_parent\"><img src=\"https://colab.research.google.com/assets/colab-badge.svg\" alt=\"Open In Colab\"/></a>"
      ]
    },
    {
      "cell_type": "markdown",
      "metadata": {
        "id": "C-Egajx6dH5y"
      },
      "source": [
        "# Using CPP modules\n",
        "\n"
      ]
    },
    {
      "cell_type": "code",
      "execution_count": 12,
      "metadata": {
        "id": "7zA3GC3PycKA"
      },
      "outputs": [],
      "source": [
        "# TODO: Add explanations"
      ]
    },
    {
      "cell_type": "markdown",
      "metadata": {
        "id": "vbUzriuXycKC"
      },
      "source": [
        "## Setup"
      ]
    },
    {
      "cell_type": "code",
      "execution_count": 2,
      "metadata": {
        "id": "UZ8nVuLkycKD",
        "outputId": "4f600c40-4ab9-44db-d824-a2a043a59dfc",
        "colab": {
          "base_uri": "https://localhost:8080/"
        }
      },
      "outputs": [
        {
          "output_type": "stream",
          "name": "stdout",
          "text": [
            "Collecting timed-decorator\n",
            "  Downloading timed_decorator-1.6.1-py3-none-any.whl.metadata (18 kB)\n",
            "Downloading timed_decorator-1.6.1-py3-none-any.whl (12 kB)\n",
            "Installing collected packages: timed-decorator\n",
            "Successfully installed timed-decorator-1.6.1\n"
          ]
        }
      ],
      "source": [
        "!pip install timed-decorator"
      ]
    },
    {
      "cell_type": "code",
      "execution_count": 3,
      "metadata": {
        "id": "b2biFvtWycKD"
      },
      "outputs": [],
      "source": [
        "import shutil\n",
        "import os\n",
        "import subprocess\n",
        "\n",
        "if not os.path.isdir(\"optimized_f1_score\"):\n",
        "    subprocess.run([\"git\", \"clone\", \"https://www.github.com/Tensor-Reloaded/AI-Learning-Hub\"], check=True)\n",
        "    shutil.copytree(\"AI-Learning-Hub/resources/advanced_pytorch/optimized_f1_score\", \"optimized_f1_score\")\n",
        "    shutil.rmtree(\"AI-Learning-Hub\", ignore_errors=True)\n"
      ]
    },
    {
      "cell_type": "code",
      "execution_count": 4,
      "metadata": {
        "id": "6cL13rU8dK4k",
        "outputId": "a966dc58-5d02-4e2f-b389-099582f9e8f7",
        "colab": {
          "base_uri": "https://localhost:8080/"
        }
      },
      "outputs": [
        {
          "output_type": "stream",
          "name": "stdout",
          "text": [
            "Building Optimized F1 Score\n",
            "Done building\n"
          ]
        }
      ],
      "source": [
        "import torch\n",
        "from timed_decorator.simple_timed import timed\n",
        "from optimized_f1_score import f1_macro_cpp, f1_macro_py"
      ]
    },
    {
      "cell_type": "code",
      "execution_count": 5,
      "metadata": {
        "id": "UMYtNmutycKF"
      },
      "outputs": [],
      "source": [
        "@timed(use_seconds=True, show_args=True)\n",
        "def test_f1_cpp(x: torch.Tensor, y: torch.Tensor, classes: int):\n",
        "    f1_macro_cpp.f1_macro(x, y, classes)\n",
        "\n",
        "\n",
        "@timed(use_seconds=True, show_args=True)\n",
        "def test_f1_py(x: torch.Tensor, y: torch.Tensor, classes: int):\n",
        "    f1_macro_py.f1_macro(x, y, classes)\n"
      ]
    },
    {
      "cell_type": "code",
      "execution_count": 6,
      "metadata": {
        "id": "A_MHvyxpycKF"
      },
      "outputs": [],
      "source": [
        "num_classes = 100\n",
        "size = 10000"
      ]
    },
    {
      "cell_type": "code",
      "execution_count": 7,
      "metadata": {
        "id": "obLQ9-J-ycKH",
        "outputId": "591f6ce9-3aa4-4a3b-c706-5284d7da2695",
        "colab": {
          "base_uri": "https://localhost:8080/"
        }
      },
      "outputs": [
        {
          "output_type": "stream",
          "name": "stdout",
          "text": [
            "test_f1_cpp(CpuTensor[10000], CpuTensor[10000], 100) -> total time: 0.052254405s\n",
            "test_f1_py(CpuTensor[10000], CpuTensor[10000], 100) -> total time: 0.025944236s\n",
            "test_f1_cpp(CudaTensor[10000], CudaTensor[10000], 100) -> total time: 0.145290371s\n",
            "test_f1_py(CudaTensor[10000], CudaTensor[10000], 100) -> total time: 0.109727034s\n"
          ]
        }
      ],
      "source": [
        "torch.random.manual_seed(3)\n",
        "x = torch.randint(0, num_classes, (size,))\n",
        "y = torch.randint(0, num_classes, (size,))\n",
        "test_f1_cpp(x, y, num_classes)\n",
        "test_f1_py(x, y, num_classes)\n",
        "x_cuda = x.cuda()\n",
        "y_cuda = y.cuda()\n",
        "test_f1_cpp(x_cuda, y_cuda, num_classes)\n",
        "test_f1_py(x_cuda, y_cuda, num_classes)\n"
      ]
    },
    {
      "cell_type": "code",
      "execution_count": 8,
      "metadata": {
        "id": "3IEnDJRJycKI",
        "outputId": "dc59ae30-be3d-43db-8472-f24481c9aa2d",
        "colab": {
          "base_uri": "https://localhost:8080/"
        }
      },
      "outputs": [
        {
          "output_type": "stream",
          "name": "stdout",
          "text": [
            "5.08 ms ± 1.21 ms per loop (mean ± std. dev. of 7 runs, 100 loops each)\n"
          ]
        }
      ],
      "source": [
        "%%timeit\n",
        "f1_macro_cpp.f1_macro(x, y, num_classes)"
      ]
    },
    {
      "cell_type": "code",
      "execution_count": 9,
      "metadata": {
        "id": "DwQH9oeEycKJ",
        "outputId": "060e4055-753d-49e1-b584-a1aa5aee8526",
        "colab": {
          "base_uri": "https://localhost:8080/"
        }
      },
      "outputs": [
        {
          "output_type": "stream",
          "name": "stdout",
          "text": [
            "7.68 ms ± 124 µs per loop (mean ± std. dev. of 7 runs, 100 loops each)\n"
          ]
        }
      ],
      "source": [
        "%%timeit\n",
        "f1_macro_py.f1_macro(x, y, num_classes)"
      ]
    },
    {
      "cell_type": "code",
      "execution_count": 10,
      "metadata": {
        "id": "6ii7DIS7ycKL",
        "outputId": "aced78f1-cf36-4e62-f297-04323fcf448f",
        "colab": {
          "base_uri": "https://localhost:8080/"
        }
      },
      "outputs": [
        {
          "output_type": "stream",
          "name": "stdout",
          "text": [
            "13.6 ms ± 1.03 ms per loop (mean ± std. dev. of 7 runs, 100 loops each)\n"
          ]
        }
      ],
      "source": [
        "%%timeit\n",
        "f1_macro_cpp.f1_macro(x_cuda, y_cuda, num_classes)"
      ]
    },
    {
      "cell_type": "code",
      "execution_count": 11,
      "metadata": {
        "id": "tcsxnjY1ycKM",
        "outputId": "9b563d10-3a1f-4005-8702-c19f876af7fd",
        "colab": {
          "base_uri": "https://localhost:8080/"
        }
      },
      "outputs": [
        {
          "output_type": "stream",
          "name": "stdout",
          "text": [
            "18.6 ms ± 2.13 ms per loop (mean ± std. dev. of 7 runs, 100 loops each)\n"
          ]
        }
      ],
      "source": [
        "%%timeit\n",
        "f1_macro_py.f1_macro(x_cuda, y_cuda, num_classes)"
      ]
    },
    {
      "cell_type": "markdown",
      "metadata": {
        "id": "muvMh9Zuiqns"
      },
      "source": [
        "Exercises:\n",
        "1. TODO"
      ]
    },
    {
      "cell_type": "markdown",
      "metadata": {
        "id": "MiVkCtJgdH5z"
      },
      "source": [
        "---"
      ]
    },
    {
      "cell_type": "markdown",
      "metadata": {
        "id": "jW74vX_KdH50"
      },
      "source": [
        "| All     | [advanced_pytorch/](https://github.com/Tensor-Reloaded/AI-Learning-Hub/blob/main/resources/advanced_pytorch) |\n",
        "|---------|-- |\n",
        "| Current | [Using Cpp Modules](https://github.com/Tensor-Reloaded/AI-Learning-Hub/blob/main/resources/advanced_pytorch/UsingCppModules.ipynb) |"
      ]
    }
  ],
  "metadata": {
    "accelerator": "GPU",
    "colab": {
      "gpuType": "T4",
      "provenance": [],
      "include_colab_link": true
    },
    "kernelspec": {
      "display_name": "bit_313",
      "language": "python",
      "name": "python3"
    },
    "language_info": {
      "codemirror_mode": {
        "name": "ipython",
        "version": 3
      },
      "file_extension": ".py",
      "mimetype": "text/x-python",
      "name": "python",
      "nbconvert_exporter": "python",
      "pygments_lexer": "ipython3",
      "version": "3.13.3"
    }
  },
  "nbformat": 4,
  "nbformat_minor": 0
}