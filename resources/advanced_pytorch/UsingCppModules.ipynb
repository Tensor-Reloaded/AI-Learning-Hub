{
  "cells": [
    {
      "cell_type": "markdown",
      "metadata": {
        "colab_type": "text",
        "id": "view-in-github"
      },
      "source": [
        "<a href=\"https://colab.research.google.com/github/Tensor-Reloaded/AI-Learning-Hub/blob/main/resources/advanced_pytorch/UsingCppModules.ipynb\" target=\"_parent\"><img src=\"https://colab.research.google.com/assets/colab-badge.svg\" alt=\"Open In Colab\"/></a>"
      ]
    },
    {
      "cell_type": "markdown",
      "metadata": {
        "id": "C-Egajx6dH5y"
      },
      "source": [
        "# Using CPP modules\n",
        "\n"
      ]
    },
    {
      "cell_type": "code",
      "execution_count": null,
      "metadata": {},
      "outputs": [],
      "source": [
        "TODO: Add explanations"
      ]
    },
    {
      "cell_type": "markdown",
      "metadata": {},
      "source": [
        "## Setup"
      ]
    },
    {
      "cell_type": "code",
      "execution_count": 5,
      "metadata": {},
      "outputs": [
        {
          "name": "stdout",
          "output_type": "stream",
          "text": [
            "Requirement already satisfied: timed-decorator in d:\\work\\bd\\snoitpecxe_tseb\\dev\\miniforge3\\envs\\bit_313\\lib\\site-packages (1.6.1)\n"
          ]
        }
      ],
      "source": [
        "!pip install timed-decorator"
      ]
    },
    {
      "cell_type": "code",
      "execution_count": null,
      "metadata": {},
      "outputs": [],
      "source": [
        "import shutil\n",
        "import os\n",
        "import subprocess\n",
        "\n",
        "if not os.path.isdir(\"optimized_f1_score\"):\n",
        "    subprocess.run([\"git\", \"clone\", \"https://www.github.com/Tensor-Reloaded/AI-Learning-Hub\"], check=True)\n",
        "    shutil.copytree(\"AI-Learning-Hub/resources/advanced_pytorch/optimized_f1_score\", \"optimized_f1_score\")\n",
        "    shutil.rmtree(\"AI-Learning-Hub\", ignore_errors=True)\n"
      ]
    },
    {
      "cell_type": "code",
      "execution_count": 7,
      "metadata": {
        "id": "6cL13rU8dK4k"
      },
      "outputs": [],
      "source": [
        "import torch\n",
        "from timed_decorator.simple_timed import timed\n",
        "from optimized_f1_score import f1_macro_cpp, f1_macro_py"
      ]
    },
    {
      "cell_type": "code",
      "execution_count": 8,
      "metadata": {},
      "outputs": [],
      "source": [
        "@timed(use_seconds=True, show_args=True)\n",
        "def test_f1_cpp(x: torch.Tensor, y: torch.Tensor, classes: int):\n",
        "    f1_macro_cpp.f1_macro(x, y, classes)\n",
        "\n",
        "\n",
        "@timed(use_seconds=True, show_args=True)\n",
        "def test_f1_py(x: torch.Tensor, y: torch.Tensor, classes: int):\n",
        "    f1_macro_py.f1_macro(x, y, classes)\n"
      ]
    },
    {
      "cell_type": "code",
      "execution_count": 13,
      "metadata": {},
      "outputs": [],
      "source": [
        "num_classes = 100\n",
        "size = 10000"
      ]
    },
    {
      "cell_type": "code",
      "execution_count": 14,
      "metadata": {},
      "outputs": [
        {
          "name": "stdout",
          "output_type": "stream",
          "text": [
            "test_f1_cpp(CpuTensor[10000], CpuTensor[10000], 100) -> total time: 0.010340000s\n",
            "test_f1_py(CpuTensor[10000], CpuTensor[10000], 100) -> total time: 0.014629100s\n",
            "test_f1_cpp(CudaTensor[10000], CudaTensor[10000], 100) -> total time: 0.060475500s\n",
            "test_f1_py(CudaTensor[10000], CudaTensor[10000], 100) -> total time: 0.060972100s\n"
          ]
        }
      ],
      "source": [
        "torch.random.manual_seed(3)\n",
        "x = torch.randint(0, num_classes, (size,))\n",
        "y = torch.randint(0, num_classes, (size,))\n",
        "test_f1_cpp(x, y, num_classes)\n",
        "test_f1_py(x, y, num_classes)\n",
        "x_cuda = x.cuda()\n",
        "y_cuda = y.cuda()\n",
        "test_f1_cpp(x_cuda, y_cuda, num_classes)\n",
        "test_f1_py(x_cuda, y_cuda, num_classes)\n"
      ]
    },
    {
      "cell_type": "code",
      "execution_count": 15,
      "metadata": {},
      "outputs": [
        {
          "name": "stdout",
          "output_type": "stream",
          "text": [
            "8.23 ms ± 443 μs per loop (mean ± std. dev. of 7 runs, 100 loops each)\n"
          ]
        }
      ],
      "source": [
        "%%timeit\n",
        "f1_macro_cpp.f1_macro(x, y, num_classes)"
      ]
    },
    {
      "cell_type": "code",
      "execution_count": 16,
      "metadata": {},
      "outputs": [
        {
          "name": "stdout",
          "output_type": "stream",
          "text": [
            "12 ms ± 2.15 ms per loop (mean ± std. dev. of 7 runs, 100 loops each)\n"
          ]
        }
      ],
      "source": [
        "%%timeit\n",
        "f1_macro_py.f1_macro(x, y, num_classes)"
      ]
    },
    {
      "cell_type": "code",
      "execution_count": 17,
      "metadata": {},
      "outputs": [
        {
          "name": "stdout",
          "output_type": "stream",
          "text": [
            "64.2 ms ± 7.54 ms per loop (mean ± std. dev. of 7 runs, 1 loop each)\n"
          ]
        }
      ],
      "source": [
        "%%timeit\n",
        "f1_macro_cpp.f1_macro(x_cuda, y_cuda, num_classes)"
      ]
    },
    {
      "cell_type": "code",
      "execution_count": 18,
      "metadata": {},
      "outputs": [
        {
          "name": "stdout",
          "output_type": "stream",
          "text": [
            "58.6 ms ± 2.61 ms per loop (mean ± std. dev. of 7 runs, 10 loops each)\n"
          ]
        }
      ],
      "source": [
        "%%timeit\n",
        "f1_macro_py.f1_macro(x_cuda, y_cuda, num_classes)"
      ]
    },
    {
      "cell_type": "markdown",
      "metadata": {
        "id": "muvMh9Zuiqns"
      },
      "source": [
        "Exercises:\n",
        "1. TODO"
      ]
    },
    {
      "cell_type": "markdown",
      "metadata": {
        "id": "MiVkCtJgdH5z"
      },
      "source": [
        "---"
      ]
    },
    {
      "cell_type": "markdown",
      "metadata": {
        "id": "jW74vX_KdH50"
      },
      "source": [
        "| All     | [advanced_pytorch/](https://github.com/Tensor-Reloaded/AI-Learning-Hub/blob/main/resources/advanced_pytorch) |\n",
        "|---------|-- |\n",
        "| Current | [Using Cpp Modules](https://github.com/Tensor-Reloaded/AI-Learning-Hub/blob/main/resources/advanced_pytorch/UsingCppModules.ipynb) |"
      ]
    }
  ],
  "metadata": {
    "accelerator": "GPU",
    "colab": {
      "gpuType": "T4",
      "include_colab_link": true,
      "provenance": []
    },
    "kernelspec": {
      "display_name": "bit_313",
      "language": "python",
      "name": "python3"
    },
    "language_info": {
      "codemirror_mode": {
        "name": "ipython",
        "version": 3
      },
      "file_extension": ".py",
      "mimetype": "text/x-python",
      "name": "python",
      "nbconvert_exporter": "python",
      "pygments_lexer": "ipython3",
      "version": "3.13.3"
    }
  },
  "nbformat": 4,
  "nbformat_minor": 0
}
